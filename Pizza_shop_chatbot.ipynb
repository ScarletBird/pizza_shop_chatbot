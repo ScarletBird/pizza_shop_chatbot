{
  "nbformat": 4,
  "nbformat_minor": 0,
  "metadata": {
    "colab": {
      "name": "Pizza shop chatbot.ipynb",
      "provenance": [],
      "collapsed_sections": [],
      "authorship_tag": "ABX9TyNlHbVMz19zyVDUcJh2q/qX",
      "include_colab_link": true
    },
    "kernelspec": {
      "name": "python3",
      "display_name": "Python 3"
    }
  },
  "cells": [
    {
      "cell_type": "markdown",
      "metadata": {
        "id": "view-in-github",
        "colab_type": "text"
      },
      "source": [
        "<a href=\"https://colab.research.google.com/github/ScarletBird/pizza_shop_chatbot/blob/main/Pizza_shop_chatbot.ipynb\" target=\"_parent\"><img src=\"https://colab.research.google.com/assets/colab-badge.svg\" alt=\"Open In Colab\"/></a>"
      ]
    },
    {
      "cell_type": "markdown",
      "metadata": {
        "id": "psE_A4ub97sQ"
      },
      "source": [
        "For this project, the NLTK chat class was used to create a simple chatbot, which will interact with the user, allowing them to: view the menu, remove or add items to their order, and finish their order. The bot is made in Portuguese."
      ]
    },
    {
      "cell_type": "code",
      "metadata": {
        "id": "9rjVxlPJWjky"
      },
      "source": [
        "# Basic libraries import\n",
        "import nltk\n",
        "from nltk.chat.util import Chat, reflections \n",
        "\n",
        "# Class chat's modification requirements\n",
        "import re\n",
        "import random\n",
        "\n",
        "import csv"
      ],
      "execution_count": null,
      "outputs": []
    },
    {
      "cell_type": "markdown",
      "metadata": {
        "id": "c_AZhzOCBFyc"
      },
      "source": [
        "Before starting the bot's construction, an adaptation is required so the chatbot will be able to call functions when called (add or remove items). After a quick search, the following method was found:"
      ]
    },
    {
      "cell_type": "code",
      "metadata": {
        "id": "iilJe_KTBVcy"
      },
      "source": [
        "class MyChat(Chat):\n",
        "\n",
        "    def __init__(self, pairs, reflections={}):\n",
        "\n",
        "        # Now that we have 4 items, being the third a function (adding z) and the fourth arguments for the function (adding args)\n",
        "        self._pairs = [(re.compile(x, re.IGNORECASE), y, z, args) for (x, y, z, args) in pairs]\n",
        "        self._reflections = reflections\n",
        "        self._regex = self._compile_reflections()\n",
        "\n",
        "    def respond(self, str):\n",
        "\n",
        "        # Here there is the 'callback', which will call the function\n",
        "        for (pattern, response, callback, args) in self._pairs:\n",
        "            match = pattern.match(str)\n",
        "\n",
        "            if match:\n",
        "\n",
        "                resp = random.choice(response)\n",
        "                resp = self._wildcards(resp, match)\n",
        "\n",
        "                if resp[-2:] == '?.':\n",
        "                    resp = resp[:-2] + '.'\n",
        "                if resp[-2:] == '??':\n",
        "                    resp = resp[:-2] + '?'\n",
        "\n",
        "                # if a 'callback' does exist, it will be executed here  \n",
        "                if callback:\n",
        "                  if args:\n",
        "                    callback(args)\n",
        "                  else: # if the function has no arguments, this method is called instead\n",
        "                    callback()\n",
        "\n",
        "                return resp"
      ],
      "execution_count": null,
      "outputs": []
    },
    {
      "cell_type": "markdown",
      "metadata": {
        "id": "qKFW4epY2hqc"
      },
      "source": [
        "First the data that will be used for universal and basic commands (don't need functions to word) will be imported by csv. The menu, in case the client requests it, is also in a csv."
      ]
    },
    {
      "cell_type": "code",
      "metadata": {
        "id": "fkrfQ2Gd27Fh"
      },
      "source": [
        "# Pairs are added as the code goes\n",
        "pares = []\n",
        "\n",
        "# The universal commands file is read to associate in the pairs\n",
        "with open('Pizza_Universal.csv', newline='') as File:  \n",
        "  reader = csv.reader(File, delimiter=';')\n",
        "  for linha in reader:\n",
        "    add = [\n",
        "      r\"{}\".format(linha[0]), # Regular expressions (user part)\n",
        "      [], # Answer\n",
        "      None, # For universal answers, no functions is executed\n",
        "      None # And no argument is requiered either\n",
        "    ]\n",
        "    # Add each answer, divided by bar, to the tuple \"add[1]\"\n",
        "    for x in linha[1].split('|'): add[1].append(x)\n",
        "    # Add \"add\" in \"pairs\"\n",
        "    pares.append(add)\n",
        "# Debug\n",
        "#print(pares)"
      ],
      "execution_count": null,
      "outputs": []
    },
    {
      "cell_type": "markdown",
      "metadata": {
        "id": "P7Tdk3lwQThJ"
      },
      "source": [
        "Adding the menu so the client can order through the pairs, besides allowing the client to request the menu by chat."
      ]
    },
    {
      "cell_type": "code",
      "metadata": {
        "id": "oVirUFvQTBrz"
      },
      "source": [
        "menu = []\n",
        "\n",
        "# CSV reading as above\n",
        "with open('Pizza_Menu.csv', newline='') as File:  \n",
        "  reader = csv.reader(File, delimiter=';')\n",
        "  for linha in reader:\n",
        "    menu.append([linha[0],linha[1],linha[2]]) # Here are added: the pizza, the ingredients, and the price\n",
        "\n",
        "def mostrarMenu():\n",
        "  # The menu has a different format to make reading friendlier to the user, by fixing spaces\n",
        "  print('{0: <23} | {1: <70} | {2}'.format('Pizza', 'Ingredientes da pizza', 'Preço'))\n",
        "  print('_'*108)\n",
        "  for p, i, pr in menu:\n",
        "    print('Pizza de {0: <14} | {1: <70} | R$ {2:.2f}'.format(p,i,float(pr)))\n",
        "\n",
        "# Pair for the client to request the menu (the bot's answer will always come after the function's execution)\n",
        "pares.append(\n",
        "    [\n",
        "      r'(.*)\\bmenu\\?*',\n",
        "      ['Claro, segue o menu. Posso te ajudar em algo mais?'],\n",
        "      mostrarMenu,\n",
        "      None\n",
        "    ]\n",
        ")\n",
        "\n",
        "# Quantity, both spelled and written\n",
        "quantidade = {\n",
        "    \"um\": 1,\n",
        "    \"uma\": 1,\n",
        "    \"dois\": 2,\n",
        "    \"duas\": 2,\n",
        "    \"três\": 3,\n",
        "    \"tres\": 3,\n",
        "    \"quatro\": 4,\n",
        "    \"cinco\": 5,\n",
        "    \"seis\": 6,\n",
        "    \"sete\": 7,\n",
        "    \"oito\": 8,\n",
        "    \"nove\": 9\n",
        "}\n",
        "quantidade_n = ['1', '2', '3', '4', '5', '6', '7', '8', '9']\n",
        "#print(quantidade)\n",
        "#print(menu)"
      ],
      "execution_count": null,
      "outputs": []
    },
    {
      "cell_type": "markdown",
      "metadata": {
        "id": "RaYF_ZGYHMmI"
      },
      "source": [
        "Now the functions that will be used by the chatbot will be added. With these functions, the client will be able to add, remove, and show items."
      ]
    },
    {
      "cell_type": "code",
      "metadata": {
        "id": "nKD3d8R8HT5o"
      },
      "source": [
        "# Client's order starts empty\n",
        "pedido = []\n",
        "\n",
        "# Basic function to add items by desired quantity\n",
        "def adicionarItem(args):\n",
        "  item, preço, quantidade = args\n",
        "  pedido.append([item, quantidade, preço*quantidade])\n",
        "\n",
        "# Function to remove an item by a quantity\n",
        "def retirarItem(args):\n",
        "  item, preço, quantidade = args\n",
        "  for i in range(len(pedido)):\n",
        "    if pedido[i][0] == item:\n",
        "      if pedido[i][1] <= quantidade:\n",
        "        del(pedido[i])\n",
        "      else:\n",
        "        pedido[i][1] = pedido[i][1] - quantidade\n",
        "        pedido[i][2] = pedido[i][2] - preço*quantidade\n",
        "      break\n",
        "\n",
        "# Function that deletes all the order's items\n",
        "def limparPedido():\n",
        "  pedido.clear()\n",
        "\n",
        "# Show the order in a friendly format\n",
        "def mostrarPedido():\n",
        "  pTotal = 0\n",
        "  print('_' * 20)\n",
        "  if len(pedido) > 0:\n",
        "    print('O seu pedido está com:')\n",
        "    for i, q, p in pedido:\n",
        "      print('{0: <14} | {1} por R$ {2:.2f}'.format(i.capitalize(), q, float(p)))\n",
        "      pTotal = pTotal + p\n",
        "    print('_' * 20)  \n",
        "    print('Total do pedido: R$ {0:.2f}'.format(pTotal))\n",
        "  else: print(\"Seu pedido está vazio!\")\n"
      ],
      "execution_count": null,
      "outputs": []
    },
    {
      "cell_type": "markdown",
      "metadata": {
        "id": "_LK5gND8f1de"
      },
      "source": [
        "Now the pairs will be added, with the menu and the already defined functions."
      ]
    },
    {
      "cell_type": "code",
      "metadata": {
        "id": "Ge0E4prufyEP"
      },
      "source": [
        "# For each pizza, a pair with its quantity will be added (1 to 9)\n",
        "for pizza, i, p in menu:\n",
        "  for key, value in quantidade.items():\n",
        "    # A pair to add an item\n",
        "    add = [\n",
        "        r'{0} {1}s?'.format(key, pizza),\n",
        "        ['{0} pizza(s) de {1} adicionado ao pedido'.format(key.capitalize(), pizza)],\n",
        "        adicionarItem,\n",
        "        [pizza, float(p), value]\n",
        "    ]\n",
        "\n",
        "    # And a pair to remove\n",
        "    add_retirar = [\n",
        "        r'retire {0} {1}s?'.format(key, pizza),\n",
        "        ['{0} pizza(s) de {1} removida do pedido'.format(key.capitalize(), pizza)],\n",
        "        retirarItem,\n",
        "        [pizza, float(p), value]\n",
        "    ]\n",
        "    pares.append(add)\n",
        "    pares.append(add_retirar)\n",
        "\n",
        "  # Same logic as above, but using spelled numbers\n",
        "  for n in quantidade_n:\n",
        "    add = [\n",
        "        r'{0} {1}s?'.format(n, pizza),\n",
        "        ['{0} pizza(s) de {1} adicionado ao pedido'.format(n, pizza)],\n",
        "        adicionarItem,\n",
        "        [pizza, float(p), int(n)]\n",
        "    ]\n",
        "    add_retirar = [\n",
        "        r'retire {0} {1}s?'.format(n, pizza),\n",
        "        ['{0} pizza(s) de {1} removida do pedido'.format(n, pizza)],\n",
        "        retirarItem,\n",
        "        [pizza, float(p), int(n)]\n",
        "    ]\n",
        "    pares.append(add)\n",
        "    pares.append(add_retirar)\n",
        "\n",
        "# Command so the client can see his order\n",
        "pares.append([\n",
        "      r'(.*)\\bmeu pedido\\?*',\n",
        "      ['Posso te ajudar com algo mais?'],\n",
        "      mostrarPedido,\n",
        "      None\n",
        "])\n",
        "\n",
        "# Function to define if the client will finish his order, cleaning it. In order to make it functional, a message should be sent to another system\n",
        "def concluirPedido():\n",
        "  mostrarPedido() # Shows the order before finishing it\n",
        "\n",
        "  # Positive patterns will be accepted by the system to complete the order\n",
        "  positivo = re.compile('(s(im)?)|(claro)|(pode?)|(por favor)|(pfv)|(com certeza)|(com ctz)|(fech(ar|e))|(conclu(ir|a))|(encerr(ar|e))')\n",
        "  encerrar = input('Posso encerrar o pedido? ')\n",
        "  \n",
        "  # If the answer is positive, the order will be completed, or else, nothing happens\n",
        "  if positivo.search(encerrar.lower()):\n",
        "    print('Pedido concluído! Prazo de entrega: 30 min. Agredecemos pelo seu pedido!')\n",
        "    limparPedido()\n",
        "\n",
        "# To complete the order, the bot will accept the following words\n",
        "pares.append([\n",
        "      r'(.*)\\b((finalizar)|(encerrar)|(concluir)|(isso [eé] tudo)|(s[oó] isso))\\?*',\n",
        "      ['Posso te ajudar em algo mais?'],\n",
        "      concluirPedido,\n",
        "      None\n",
        "])\n",
        "\n",
        "#print(pares[4])"
      ],
      "execution_count": null,
      "outputs": []
    },
    {
      "cell_type": "markdown",
      "metadata": {
        "id": "0kdzqoIEq05m"
      },
      "source": [
        "After all parts are concluded, the chat will start after the command bellow:"
      ]
    },
    {
      "cell_type": "code",
      "metadata": {
        "colab": {
          "base_uri": "https://localhost:8080/"
        },
        "id": "xKpTXS64-0XK",
        "outputId": "067e9abc-71e7-47ee-98b6-6f3d7ef11d65"
      },
      "source": [
        "chat = MyChat(pares,reflections) # MyChat is used instead of Chat, since there are more functions to it\n",
        "chat.converse()"
      ],
      "execution_count": null,
      "outputs": [
        {
          "output_type": "stream",
          "text": [
            ">Olá\n",
            "Oi! Boas vindas à pizzaria Pizza!\n",
            ">Quero ver o menu\n",
            "Pizza                   | Ingredientes da pizza                                                  | Preço\n",
            "____________________________________________________________________________________________________________\n",
            "Pizza de mussarela      | Mussarela, molho de tomate e orégano                                   | R$ 10.50\n",
            "Pizza de calabresa      | Calabresa, molho de tomate, cebola e orégano                           | R$ 10.50\n",
            "Pizza de marguerita     | Mussarela, tomate, molho de tomate, orégano e manjericão               | R$ 10.50\n",
            "Pizza de portuguesa     | Mussarela, presunto, ovos, ervilha, cebola, molho de tomate e orégano  | R$ 13.50\n",
            "Pizza de atum           | Atum, cebola e molho de tomate                                         | R$ 10.50\n",
            "Pizza de napolitana     | Mussarela, parmesão, tomate e molho de tomate                          | R$ 11.50\n",
            "Pizza de palmito        | Mussarela, palmito e molho de tomate                                   | R$ 11.50\n",
            "Pizza de quatro queijos | Mussarela, catupiry, provolone e parmesão                              | R$ 13.50\n",
            "Claro, segue o menu. Posso te ajudar em algo mais?\n",
            ">Quero fazer um pedido\n",
            "Qual o seu pedido? Favor digitar apenas a quantidade e o sabor.\n",
            ">Uma mussarela\n",
            "Uma pizza(s) de mussarela adicionado ao pedido\n",
            ">1 marguerita\n",
            "1 pizza(s) de marguerita adicionado ao pedido\n",
            ">Duas portuguesa\n",
            "Duas pizza(s) de portuguesa adicionado ao pedido\n",
            ">Quero ver meu pedido\n",
            "____________________\n",
            "O seu pedido está com:\n",
            "Mussarela      | 1 por R$ 10.50\n",
            "Marguerita     | 1 por R$ 10.50\n",
            "Portuguesa     | 2 por R$ 27.00\n",
            "____________________\n",
            "Total do pedido: R$ 48.00\n",
            "Posso te ajudar com algo mais?\n",
            ">Quero retirar um sabor\n",
            "Para retirar algum item, utilize a palavra \"retire\" seguido da quantidade e do item.\n",
            ">retire 1 portuguesa\n",
            "1 pizza(s) de portuguesa removida do pedido\n",
            ">Como está meu pedido?\n",
            "____________________\n",
            "O seu pedido está com:\n",
            "Mussarela      | 1 por R$ 10.50\n",
            "Marguerita     | 1 por R$ 10.50\n",
            "Portuguesa     | 1 por R$ 13.50\n",
            "____________________\n",
            "Total do pedido: R$ 34.50\n",
            "Posso te ajudar com algo mais?\n",
            ">Só isso\n",
            "____________________\n",
            "O seu pedido está com:\n",
            "Mussarela      | 1 por R$ 10.50\n",
            "Marguerita     | 1 por R$ 10.50\n",
            "Portuguesa     | 1 por R$ 13.50\n",
            "____________________\n",
            "Total do pedido: R$ 34.50\n",
            "Posso encerrar o pedido? Sim\n",
            "Pedido concluído! Prazo de entrega: 30 min. Agredecemos pelo seu pedido!\n",
            "Posso te ajudar em algo mais?\n",
            ">Meu pedido\n",
            "____________________\n",
            "Seu pedido está vazio!\n",
            "Posso te ajudar com algo mais?\n",
            ">quit\n",
            "None\n"
          ],
          "name": "stdout"
        }
      ]
    }
  ]
}